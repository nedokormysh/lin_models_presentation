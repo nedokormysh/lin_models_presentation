{
  "nbformat": 4,
  "nbformat_minor": 0,
  "metadata": {
    "colab": {
      "provenance": [],
      "include_colab_link": true
    },
    "kernelspec": {
      "name": "python3",
      "display_name": "Python 3"
    },
    "language_info": {
      "name": "python"
    }
  },
  "cells": [
    {
      "cell_type": "markdown",
      "metadata": {
        "id": "view-in-github",
        "colab_type": "text"
      },
      "source": [
        "<a href=\"https://colab.research.google.com/github/nedokormysh/lin_models_presentation/blob/model_streamlit/project_classification_model.ipynb\" target=\"_parent\"><img src=\"https://colab.research.google.com/assets/colab-badge.svg\" alt=\"Open In Colab\"/></a>"
      ]
    },
    {
      "cell_type": "markdown",
      "source": [
        "# Практическая работа"
      ],
      "metadata": {
        "id": "m9QWlN-lq0qw"
      }
    },
    {
      "cell_type": "markdown",
      "source": [
        "# Задача"
      ],
      "metadata": {
        "id": "4Nb7eTxYWWUe"
      }
    },
    {
      "cell_type": "markdown",
      "source": [
        "Один из способов повысить эффективность взаимодействия банка с клиентами — отправлять предложение о новой услуге не всем клиентам, а только некоторым, которые выбираются по принципу наибольшей склонности к отклику на это предложение.\n",
        "\n",
        "Задача заключается в том, чтобы предложить алгоритм, который будет выдавать склонность клиента к положительному или отрицательному отклику на предложение банка. Предполагается, что, получив такие оценки для некоторого множества клиентов, банк обратится с предложением только к тем, от кого ожидается положительный отклик.\n"
      ],
      "metadata": {
        "id": "ug5TQChn6KiJ"
      }
    },
    {
      "cell_type": "markdown",
      "source": [
        "Для решения этой задачи загрузите файлы из базы в Postgres.\n",
        "Эта БД хранит информацию о клиентах банка и их персональные данные, такие как пол, количество детей и другие.\n",
        "\n",
        "Описание таблиц с данными представлено ниже.\n"
      ],
      "metadata": {
        "id": "5k52FwP156I6"
      }
    },
    {
      "cell_type": "markdown",
      "source": [
        "**D_work**\n",
        "\n",
        "Описание статусов относительно работы:\n",
        "- ID — идентификатор социального статуса клиента относительно работы;\n",
        "- COMMENT — расшифровка статуса.\n",
        "\n",
        "\n",
        "**D_pens**\n",
        "\n",
        "Описание статусов относительно пенсии:\n",
        "- ID — идентификатор социального статуса;\n",
        "- COMMENT — расшифровка статуса.\n",
        "\n",
        "\n",
        "**D_clients**\n",
        "\n",
        "Описание данных клиентов:\n",
        "- ID — идентификатор записи;\n",
        "- AGE\t— возраст клиента;\n",
        "- GENDER — пол клиента (1 — мужчина, 0 — женщина);\n",
        "- EDUCATION — образование;\n",
        "- MARITAL_STATUS — семейное положение;\n",
        "- CHILD_TOTAL\t— количество детей клиента;\n",
        "- DEPENDANTS — количество иждивенцев клиента;\n",
        "- SOCSTATUS_WORK_FL\t— социальный статус клиента относительно работы (1 — работает, 0 — не работает);\n",
        "- SOCSTATUS_PENS_FL\t— социальный статус клиента относительно пенсии (1 — пенсионер, 0 — не пенсионер);\n",
        "- REG_ADDRESS_PROVINCE — область регистрации клиента;\n",
        "- FACT_ADDRESS_PROVINCE — область фактического пребывания клиента;\n",
        "- POSTAL_ADDRESS_PROVINCE — почтовый адрес области;\n",
        "- FL_PRESENCE_FL — наличие в собственности квартиры (1 — есть, 0 — нет);\n",
        "- OWN_AUTO — количество автомобилей в собственности.\n",
        "\n",
        "\n",
        "**D_agreement**\n",
        "\n",
        "Таблица с зафиксированными откликами клиентов на предложения банка:\n",
        "- AGREEMENT_RK — уникальный идентификатор объекта в выборке;\n",
        "- ID_CLIENT — идентификатор клиента;\n",
        "- TARGET — целевая переменная: отклик на маркетинговую кампанию (1 — отклик был зарегистрирован, 0 — отклика не было).\n",
        "    \n",
        "    \n",
        "**D_job**\n",
        "\n",
        "Описание информации о работе клиентов:\n",
        "- GEN_INDUSTRY — отрасль работы клиента;\n",
        "- GEN_TITLE — должность;\n",
        "- JOB_DIR — направление деятельности внутри компании;\n",
        "- WORK_TIME — время работы на текущем месте (в месяцах);\n",
        "- ID_CLIENT — идентификатор клиента.\n",
        "\n",
        "\n",
        "**D_salary**\n",
        "\n",
        "Описание информации о заработной плате клиентов:\n",
        "- ID_CLIENT — идентификатор клиента;\n",
        "- FAMILY_INCOME — семейный доход (несколько категорий);\n",
        "- PERSONAL_INCOME — личный доход клиента (в рублях).\n",
        "\n",
        "\n",
        "**D_last_credit**\n",
        "\n",
        "Информация о последнем займе клиента:\n",
        "- ID_CLIENT — идентификатор клиента;\n",
        "- CREDIT — сумма последнего кредита клиента (в рублях);\n",
        "- TERM — срок кредита;\n",
        "- FST_PAYMENT — первоначальный взнос (в рублях).\n",
        "\n",
        "\n",
        "**D_loan**\n",
        "\n",
        "Информация о кредитной истории клиента:\n",
        "- ID_CLIENT — идентификатор клиента;\n",
        "- ID_LOAN — идентификатор кредита.\n",
        "\n",
        "**D_close_loan**\n",
        "\n",
        "Информация о статусах кредита (ссуд):\n",
        "- ID_LOAN — идентификатор кредита;\n",
        "- CLOSED_FL — текущий статус кредита (1 — закрыт, 0 — не закрыт)."
      ],
      "metadata": {
        "id": "3HYLpuwA6dAw"
      }
    },
    {
      "cell_type": "markdown",
      "source": [
        "Ниже представлен минимальный список колонок, которые должны находиться в итоговом датасете после склейки и агрегации данных. По своему усмотрению вы можете добавить дополнительные к этим колонки."
      ],
      "metadata": {
        "id": "aSCbvJeMKegU"
      }
    },
    {
      "cell_type": "markdown",
      "source": [
        "    - AGREEMENT_RK — уникальный идентификатор объекта в выборке;\n",
        "    - TARGET — целевая переменная: отклик на маркетинговую кампанию (1 — отклик был зарегистрирован, 0 — отклика не было);\n",
        "    - AGE — возраст клиента;\n",
        "    - SOCSTATUS_WORK_FL — социальный статус клиента относительно работы (1 — работает, 0 — не работает);\n",
        "    - SOCSTATUS_PENS_FL — социальный статус клиента относительно пенсии (1 — пенсионер, 0 — не пенсионер);\n",
        "    - GENDER — пол клиента (1 — мужчина, 0 — женщина);\n",
        "    - CHILD_TOTAL — количество детей клиента;\n",
        "    - DEPENDANTS — количество иждивенцев клиента;\n",
        "    - PERSONAL_INCOME — личный доход клиента (в рублях);\n",
        "    - LOAN_NUM_TOTAL — количество ссуд клиента;\n",
        "    - LOAN_NUM_CLOSED — количество погашенных ссуд клиента.\n"
      ],
      "metadata": {
        "id": "xDZKZYCtmbwi"
      }
    },
    {
      "cell_type": "markdown",
      "source": [
        "Будьте внимательны при сборке датасета: это реальные банковские данные, в которых могут наблюдаться дубли, некорректно заполненные значения или значения, противоречащие друг другу. Для получения качественной модели необходимо предварительно очистить датасет от такой информации."
      ],
      "metadata": {
        "id": "EDpojLFeAw2Y"
      }
    },
    {
      "cell_type": "markdown",
      "source": [
        "## Задание 1\n",
        "\n",
        "В предыдущем задании вы собрали всю информацию о клиентах в одну таблицу, где одна строчка соответствует полной информации об одном клиенте.\n",
        "\n",
        "Загрузите эту таблицу."
      ],
      "metadata": {
        "id": "GERgJvyYmQEZ"
      }
    },
    {
      "cell_type": "code",
      "source": [
        "!pip install association-metrics -q\n",
        "!pip install catboost -q"
      ],
      "metadata": {
        "id": "SenRWQxUWbkr"
      },
      "execution_count": 38,
      "outputs": []
    },
    {
      "cell_type": "code",
      "source": [
        "import pandas as pd\n",
        "import matplotlib.pyplot as plt\n",
        "import seaborn as sns\n",
        "import association_metrics as am\n",
        "\n",
        "from sklearn.model_selection import train_test_split\n",
        "\n",
        "from sklearn.linear_model import LogisticRegression\n",
        "from sklearn.pipeline import Pipeline\n",
        "from sklearn.compose import TransformedTargetRegressor\n",
        "from sklearn.pipeline import make_pipeline\n",
        "\n",
        "from catboost import CatBoostClassifier, Pool\n",
        "import lightgbm as lgb\n",
        "from lightgbm import LGBMClassifier, early_stopping, Dataset\n",
        "\n",
        "from sklearn.preprocessing import OneHotEncoder, MinMaxScaler, StandardScaler, LabelEncoder\n",
        "from sklearn.compose import ColumnTransformer\n",
        "from sklearn.base import BaseEstimator, TransformerMixin\n",
        "from sklearn.impute import SimpleImputer\n",
        "\n",
        "from sklearn.linear_model import LogisticRegression\n",
        "from sklearn.metrics import precision_score, recall_score\n",
        "from sklearn.metrics import confusion_matrix\n",
        "from sklearn.metrics import balanced_accuracy_score, accuracy_score, classification_report, f1_score\n",
        "from sklearn.metrics import roc_auc_score, roc_curve, auc, RocCurveDisplay\n",
        "\n",
        "import warnings\n",
        "warnings.filterwarnings(\"ignore\")\n",
        "\n",
        "import pickle"
      ],
      "metadata": {
        "id": "8ulBhQYjAbuW"
      },
      "execution_count": 39,
      "outputs": []
    },
    {
      "cell_type": "markdown",
      "source": [
        "## Загрузка таблицы."
      ],
      "metadata": {
        "id": "johNuhR4YAIv"
      }
    },
    {
      "cell_type": "code",
      "source": [
        "all_data = pd.read_csv('https://raw.githubusercontent.com/nedokormysh/lin_models_presentation/main/all_data.csv')\n",
        "all_data.head()"
      ],
      "metadata": {
        "colab": {
          "base_uri": "https://localhost:8080/",
          "height": 342
        },
        "id": "xEjxs5nrLtK4",
        "outputId": "97b8d9a5-b362-4a15-c3fe-efd13a2d5c47"
      },
      "execution_count": 40,
      "outputs": [
        {
          "output_type": "execute_result",
          "data": {
            "text/plain": [
              "   AGE  GENDER            EDUCATION  MARITAL_STATUS  CHILD_TOTAL  DEPENDANTS  \\\n",
              "0   49       1  Среднее специальное  Состою в браке            2           1   \n",
              "1   32       1              Среднее  Состою в браке            3           3   \n",
              "2   52       1     Неполное среднее  Состою в браке            4           0   \n",
              "3   39       1               Высшее  Состою в браке            1           1   \n",
              "4   30       0              Среднее  Состою в браке            0           0   \n",
              "\n",
              "   SOCSTATUS_WORK_FL  SOCSTATUS_PENS_FL  REG_ADDRESS_PROVINCE  \\\n",
              "0                  1                  0  Оренбургская область   \n",
              "1                  1                  0    Кабардино-Балкария   \n",
              "2                  1                  0     Иркутская область   \n",
              "3                  1                  0    Ростовская область   \n",
              "4                  1                  0    Кабардино-Балкария   \n",
              "\n",
              "  FACT_ADDRESS_PROVINCE  ...           FAMILY_INCOME  PERSONAL_INCOME  \\\n",
              "0  Оренбургская область  ...  от 10000 до 20000 руб.           5000.0   \n",
              "1    Кабардино-Балкария  ...  от 10000 до 20000 руб.          12000.0   \n",
              "2     Иркутская область  ...  от 10000 до 20000 руб.           9000.0   \n",
              "3    Ростовская область  ...  от 20000 до 50000 руб.          25000.0   \n",
              "4    Кабардино-Балкария  ...  от 10000 до 20000 руб.          12000.0   \n",
              "\n",
              "   LOAN_AMOUNT CLOSED_LOANS    CREDIT TERM  FST_PAYMENT TARGET  \\\n",
              "0            1            1   8000.00    6       8650.0      0   \n",
              "1            1            1  21650.00    6       4000.0      0   \n",
              "2            2            1  33126.00   12       4000.0      0   \n",
              "3            1            1   8491.82    6       5000.0      0   \n",
              "4            2            1  21990.00   12       4000.0      0   \n",
              "\n",
              "   WORK_TIME_IN_YEARS  LOAN_NOW  \n",
              "0            1.500000         0  \n",
              "1            8.083333         0  \n",
              "2            7.000000         1  \n",
              "3           14.000000         0  \n",
              "4            8.416667         1  \n",
              "\n",
              "[5 rows x 27 columns]"
            ],
            "text/html": [
              "\n",
              "  <div id=\"df-e0ce4628-710b-4303-ade5-dd98cf680718\" class=\"colab-df-container\">\n",
              "    <div>\n",
              "<style scoped>\n",
              "    .dataframe tbody tr th:only-of-type {\n",
              "        vertical-align: middle;\n",
              "    }\n",
              "\n",
              "    .dataframe tbody tr th {\n",
              "        vertical-align: top;\n",
              "    }\n",
              "\n",
              "    .dataframe thead th {\n",
              "        text-align: right;\n",
              "    }\n",
              "</style>\n",
              "<table border=\"1\" class=\"dataframe\">\n",
              "  <thead>\n",
              "    <tr style=\"text-align: right;\">\n",
              "      <th></th>\n",
              "      <th>AGE</th>\n",
              "      <th>GENDER</th>\n",
              "      <th>EDUCATION</th>\n",
              "      <th>MARITAL_STATUS</th>\n",
              "      <th>CHILD_TOTAL</th>\n",
              "      <th>DEPENDANTS</th>\n",
              "      <th>SOCSTATUS_WORK_FL</th>\n",
              "      <th>SOCSTATUS_PENS_FL</th>\n",
              "      <th>REG_ADDRESS_PROVINCE</th>\n",
              "      <th>FACT_ADDRESS_PROVINCE</th>\n",
              "      <th>...</th>\n",
              "      <th>FAMILY_INCOME</th>\n",
              "      <th>PERSONAL_INCOME</th>\n",
              "      <th>LOAN_AMOUNT</th>\n",
              "      <th>CLOSED_LOANS</th>\n",
              "      <th>CREDIT</th>\n",
              "      <th>TERM</th>\n",
              "      <th>FST_PAYMENT</th>\n",
              "      <th>TARGET</th>\n",
              "      <th>WORK_TIME_IN_YEARS</th>\n",
              "      <th>LOAN_NOW</th>\n",
              "    </tr>\n",
              "  </thead>\n",
              "  <tbody>\n",
              "    <tr>\n",
              "      <th>0</th>\n",
              "      <td>49</td>\n",
              "      <td>1</td>\n",
              "      <td>Среднее специальное</td>\n",
              "      <td>Состою в браке</td>\n",
              "      <td>2</td>\n",
              "      <td>1</td>\n",
              "      <td>1</td>\n",
              "      <td>0</td>\n",
              "      <td>Оренбургская область</td>\n",
              "      <td>Оренбургская область</td>\n",
              "      <td>...</td>\n",
              "      <td>от 10000 до 20000 руб.</td>\n",
              "      <td>5000.0</td>\n",
              "      <td>1</td>\n",
              "      <td>1</td>\n",
              "      <td>8000.00</td>\n",
              "      <td>6</td>\n",
              "      <td>8650.0</td>\n",
              "      <td>0</td>\n",
              "      <td>1.500000</td>\n",
              "      <td>0</td>\n",
              "    </tr>\n",
              "    <tr>\n",
              "      <th>1</th>\n",
              "      <td>32</td>\n",
              "      <td>1</td>\n",
              "      <td>Среднее</td>\n",
              "      <td>Состою в браке</td>\n",
              "      <td>3</td>\n",
              "      <td>3</td>\n",
              "      <td>1</td>\n",
              "      <td>0</td>\n",
              "      <td>Кабардино-Балкария</td>\n",
              "      <td>Кабардино-Балкария</td>\n",
              "      <td>...</td>\n",
              "      <td>от 10000 до 20000 руб.</td>\n",
              "      <td>12000.0</td>\n",
              "      <td>1</td>\n",
              "      <td>1</td>\n",
              "      <td>21650.00</td>\n",
              "      <td>6</td>\n",
              "      <td>4000.0</td>\n",
              "      <td>0</td>\n",
              "      <td>8.083333</td>\n",
              "      <td>0</td>\n",
              "    </tr>\n",
              "    <tr>\n",
              "      <th>2</th>\n",
              "      <td>52</td>\n",
              "      <td>1</td>\n",
              "      <td>Неполное среднее</td>\n",
              "      <td>Состою в браке</td>\n",
              "      <td>4</td>\n",
              "      <td>0</td>\n",
              "      <td>1</td>\n",
              "      <td>0</td>\n",
              "      <td>Иркутская область</td>\n",
              "      <td>Иркутская область</td>\n",
              "      <td>...</td>\n",
              "      <td>от 10000 до 20000 руб.</td>\n",
              "      <td>9000.0</td>\n",
              "      <td>2</td>\n",
              "      <td>1</td>\n",
              "      <td>33126.00</td>\n",
              "      <td>12</td>\n",
              "      <td>4000.0</td>\n",
              "      <td>0</td>\n",
              "      <td>7.000000</td>\n",
              "      <td>1</td>\n",
              "    </tr>\n",
              "    <tr>\n",
              "      <th>3</th>\n",
              "      <td>39</td>\n",
              "      <td>1</td>\n",
              "      <td>Высшее</td>\n",
              "      <td>Состою в браке</td>\n",
              "      <td>1</td>\n",
              "      <td>1</td>\n",
              "      <td>1</td>\n",
              "      <td>0</td>\n",
              "      <td>Ростовская область</td>\n",
              "      <td>Ростовская область</td>\n",
              "      <td>...</td>\n",
              "      <td>от 20000 до 50000 руб.</td>\n",
              "      <td>25000.0</td>\n",
              "      <td>1</td>\n",
              "      <td>1</td>\n",
              "      <td>8491.82</td>\n",
              "      <td>6</td>\n",
              "      <td>5000.0</td>\n",
              "      <td>0</td>\n",
              "      <td>14.000000</td>\n",
              "      <td>0</td>\n",
              "    </tr>\n",
              "    <tr>\n",
              "      <th>4</th>\n",
              "      <td>30</td>\n",
              "      <td>0</td>\n",
              "      <td>Среднее</td>\n",
              "      <td>Состою в браке</td>\n",
              "      <td>0</td>\n",
              "      <td>0</td>\n",
              "      <td>1</td>\n",
              "      <td>0</td>\n",
              "      <td>Кабардино-Балкария</td>\n",
              "      <td>Кабардино-Балкария</td>\n",
              "      <td>...</td>\n",
              "      <td>от 10000 до 20000 руб.</td>\n",
              "      <td>12000.0</td>\n",
              "      <td>2</td>\n",
              "      <td>1</td>\n",
              "      <td>21990.00</td>\n",
              "      <td>12</td>\n",
              "      <td>4000.0</td>\n",
              "      <td>0</td>\n",
              "      <td>8.416667</td>\n",
              "      <td>1</td>\n",
              "    </tr>\n",
              "  </tbody>\n",
              "</table>\n",
              "<p>5 rows × 27 columns</p>\n",
              "</div>\n",
              "    <div class=\"colab-df-buttons\">\n",
              "\n",
              "  <div class=\"colab-df-container\">\n",
              "    <button class=\"colab-df-convert\" onclick=\"convertToInteractive('df-e0ce4628-710b-4303-ade5-dd98cf680718')\"\n",
              "            title=\"Convert this dataframe to an interactive table.\"\n",
              "            style=\"display:none;\">\n",
              "\n",
              "  <svg xmlns=\"http://www.w3.org/2000/svg\" height=\"24px\" viewBox=\"0 -960 960 960\">\n",
              "    <path d=\"M120-120v-720h720v720H120Zm60-500h600v-160H180v160Zm220 220h160v-160H400v160Zm0 220h160v-160H400v160ZM180-400h160v-160H180v160Zm440 0h160v-160H620v160ZM180-180h160v-160H180v160Zm440 0h160v-160H620v160Z\"/>\n",
              "  </svg>\n",
              "    </button>\n",
              "\n",
              "  <style>\n",
              "    .colab-df-container {\n",
              "      display:flex;\n",
              "      gap: 12px;\n",
              "    }\n",
              "\n",
              "    .colab-df-convert {\n",
              "      background-color: #E8F0FE;\n",
              "      border: none;\n",
              "      border-radius: 50%;\n",
              "      cursor: pointer;\n",
              "      display: none;\n",
              "      fill: #1967D2;\n",
              "      height: 32px;\n",
              "      padding: 0 0 0 0;\n",
              "      width: 32px;\n",
              "    }\n",
              "\n",
              "    .colab-df-convert:hover {\n",
              "      background-color: #E2EBFA;\n",
              "      box-shadow: 0px 1px 2px rgba(60, 64, 67, 0.3), 0px 1px 3px 1px rgba(60, 64, 67, 0.15);\n",
              "      fill: #174EA6;\n",
              "    }\n",
              "\n",
              "    .colab-df-buttons div {\n",
              "      margin-bottom: 4px;\n",
              "    }\n",
              "\n",
              "    [theme=dark] .colab-df-convert {\n",
              "      background-color: #3B4455;\n",
              "      fill: #D2E3FC;\n",
              "    }\n",
              "\n",
              "    [theme=dark] .colab-df-convert:hover {\n",
              "      background-color: #434B5C;\n",
              "      box-shadow: 0px 1px 3px 1px rgba(0, 0, 0, 0.15);\n",
              "      filter: drop-shadow(0px 1px 2px rgba(0, 0, 0, 0.3));\n",
              "      fill: #FFFFFF;\n",
              "    }\n",
              "  </style>\n",
              "\n",
              "    <script>\n",
              "      const buttonEl =\n",
              "        document.querySelector('#df-e0ce4628-710b-4303-ade5-dd98cf680718 button.colab-df-convert');\n",
              "      buttonEl.style.display =\n",
              "        google.colab.kernel.accessAllowed ? 'block' : 'none';\n",
              "\n",
              "      async function convertToInteractive(key) {\n",
              "        const element = document.querySelector('#df-e0ce4628-710b-4303-ade5-dd98cf680718');\n",
              "        const dataTable =\n",
              "          await google.colab.kernel.invokeFunction('convertToInteractive',\n",
              "                                                    [key], {});\n",
              "        if (!dataTable) return;\n",
              "\n",
              "        const docLinkHtml = 'Like what you see? Visit the ' +\n",
              "          '<a target=\"_blank\" href=https://colab.research.google.com/notebooks/data_table.ipynb>data table notebook</a>'\n",
              "          + ' to learn more about interactive tables.';\n",
              "        element.innerHTML = '';\n",
              "        dataTable['output_type'] = 'display_data';\n",
              "        await google.colab.output.renderOutput(dataTable, element);\n",
              "        const docLink = document.createElement('div');\n",
              "        docLink.innerHTML = docLinkHtml;\n",
              "        element.appendChild(docLink);\n",
              "      }\n",
              "    </script>\n",
              "  </div>\n",
              "\n",
              "\n",
              "<div id=\"df-54bd14e7-840e-4427-8328-1d8472905640\">\n",
              "  <button class=\"colab-df-quickchart\" onclick=\"quickchart('df-54bd14e7-840e-4427-8328-1d8472905640')\"\n",
              "            title=\"Suggest charts.\"\n",
              "            style=\"display:none;\">\n",
              "\n",
              "<svg xmlns=\"http://www.w3.org/2000/svg\" height=\"24px\"viewBox=\"0 0 24 24\"\n",
              "     width=\"24px\">\n",
              "    <g>\n",
              "        <path d=\"M19 3H5c-1.1 0-2 .9-2 2v14c0 1.1.9 2 2 2h14c1.1 0 2-.9 2-2V5c0-1.1-.9-2-2-2zM9 17H7v-7h2v7zm4 0h-2V7h2v10zm4 0h-2v-4h2v4z\"/>\n",
              "    </g>\n",
              "</svg>\n",
              "  </button>\n",
              "\n",
              "<style>\n",
              "  .colab-df-quickchart {\n",
              "      --bg-color: #E8F0FE;\n",
              "      --fill-color: #1967D2;\n",
              "      --hover-bg-color: #E2EBFA;\n",
              "      --hover-fill-color: #174EA6;\n",
              "      --disabled-fill-color: #AAA;\n",
              "      --disabled-bg-color: #DDD;\n",
              "  }\n",
              "\n",
              "  [theme=dark] .colab-df-quickchart {\n",
              "      --bg-color: #3B4455;\n",
              "      --fill-color: #D2E3FC;\n",
              "      --hover-bg-color: #434B5C;\n",
              "      --hover-fill-color: #FFFFFF;\n",
              "      --disabled-bg-color: #3B4455;\n",
              "      --disabled-fill-color: #666;\n",
              "  }\n",
              "\n",
              "  .colab-df-quickchart {\n",
              "    background-color: var(--bg-color);\n",
              "    border: none;\n",
              "    border-radius: 50%;\n",
              "    cursor: pointer;\n",
              "    display: none;\n",
              "    fill: var(--fill-color);\n",
              "    height: 32px;\n",
              "    padding: 0;\n",
              "    width: 32px;\n",
              "  }\n",
              "\n",
              "  .colab-df-quickchart:hover {\n",
              "    background-color: var(--hover-bg-color);\n",
              "    box-shadow: 0 1px 2px rgba(60, 64, 67, 0.3), 0 1px 3px 1px rgba(60, 64, 67, 0.15);\n",
              "    fill: var(--button-hover-fill-color);\n",
              "  }\n",
              "\n",
              "  .colab-df-quickchart-complete:disabled,\n",
              "  .colab-df-quickchart-complete:disabled:hover {\n",
              "    background-color: var(--disabled-bg-color);\n",
              "    fill: var(--disabled-fill-color);\n",
              "    box-shadow: none;\n",
              "  }\n",
              "\n",
              "  .colab-df-spinner {\n",
              "    border: 2px solid var(--fill-color);\n",
              "    border-color: transparent;\n",
              "    border-bottom-color: var(--fill-color);\n",
              "    animation:\n",
              "      spin 1s steps(1) infinite;\n",
              "  }\n",
              "\n",
              "  @keyframes spin {\n",
              "    0% {\n",
              "      border-color: transparent;\n",
              "      border-bottom-color: var(--fill-color);\n",
              "      border-left-color: var(--fill-color);\n",
              "    }\n",
              "    20% {\n",
              "      border-color: transparent;\n",
              "      border-left-color: var(--fill-color);\n",
              "      border-top-color: var(--fill-color);\n",
              "    }\n",
              "    30% {\n",
              "      border-color: transparent;\n",
              "      border-left-color: var(--fill-color);\n",
              "      border-top-color: var(--fill-color);\n",
              "      border-right-color: var(--fill-color);\n",
              "    }\n",
              "    40% {\n",
              "      border-color: transparent;\n",
              "      border-right-color: var(--fill-color);\n",
              "      border-top-color: var(--fill-color);\n",
              "    }\n",
              "    60% {\n",
              "      border-color: transparent;\n",
              "      border-right-color: var(--fill-color);\n",
              "    }\n",
              "    80% {\n",
              "      border-color: transparent;\n",
              "      border-right-color: var(--fill-color);\n",
              "      border-bottom-color: var(--fill-color);\n",
              "    }\n",
              "    90% {\n",
              "      border-color: transparent;\n",
              "      border-bottom-color: var(--fill-color);\n",
              "    }\n",
              "  }\n",
              "</style>\n",
              "\n",
              "  <script>\n",
              "    async function quickchart(key) {\n",
              "      const quickchartButtonEl =\n",
              "        document.querySelector('#' + key + ' button');\n",
              "      quickchartButtonEl.disabled = true;  // To prevent multiple clicks.\n",
              "      quickchartButtonEl.classList.add('colab-df-spinner');\n",
              "      try {\n",
              "        const charts = await google.colab.kernel.invokeFunction(\n",
              "            'suggestCharts', [key], {});\n",
              "      } catch (error) {\n",
              "        console.error('Error during call to suggestCharts:', error);\n",
              "      }\n",
              "      quickchartButtonEl.classList.remove('colab-df-spinner');\n",
              "      quickchartButtonEl.classList.add('colab-df-quickchart-complete');\n",
              "    }\n",
              "    (() => {\n",
              "      let quickchartButtonEl =\n",
              "        document.querySelector('#df-54bd14e7-840e-4427-8328-1d8472905640 button');\n",
              "      quickchartButtonEl.style.display =\n",
              "        google.colab.kernel.accessAllowed ? 'block' : 'none';\n",
              "    })();\n",
              "  </script>\n",
              "</div>\n",
              "    </div>\n",
              "  </div>\n"
            ]
          },
          "metadata": {},
          "execution_count": 40
        }
      ]
    },
    {
      "cell_type": "code",
      "source": [
        "all_data.info()"
      ],
      "metadata": {
        "colab": {
          "base_uri": "https://localhost:8080/"
        },
        "id": "dad2Cew1fUXF",
        "outputId": "4a18b13f-eb49-4178-ff0c-7c378acb64f4"
      },
      "execution_count": 41,
      "outputs": [
        {
          "output_type": "stream",
          "name": "stdout",
          "text": [
            "<class 'pandas.core.frame.DataFrame'>\n",
            "RangeIndex: 13799 entries, 0 to 13798\n",
            "Data columns (total 27 columns):\n",
            " #   Column                   Non-Null Count  Dtype  \n",
            "---  ------                   --------------  -----  \n",
            " 0   AGE                      13799 non-null  int64  \n",
            " 1   GENDER                   13799 non-null  int64  \n",
            " 2   EDUCATION                13799 non-null  object \n",
            " 3   MARITAL_STATUS           13799 non-null  object \n",
            " 4   CHILD_TOTAL              13799 non-null  int64  \n",
            " 5   DEPENDANTS               13799 non-null  int64  \n",
            " 6   SOCSTATUS_WORK_FL        13799 non-null  int64  \n",
            " 7   SOCSTATUS_PENS_FL        13799 non-null  int64  \n",
            " 8   REG_ADDRESS_PROVINCE     13799 non-null  object \n",
            " 9   FACT_ADDRESS_PROVINCE    13799 non-null  object \n",
            " 10  POSTAL_ADDRESS_PROVINCE  13799 non-null  object \n",
            " 11  FL_PRESENCE_FL           13799 non-null  int64  \n",
            " 12  OWN_AUTO                 13799 non-null  int64  \n",
            " 13  GEN_INDUSTRY             13799 non-null  object \n",
            " 14  GEN_TITLE                13799 non-null  object \n",
            " 15  JOB_DIR                  13799 non-null  object \n",
            " 16  WORK_TIME                13799 non-null  float64\n",
            " 17  FAMILY_INCOME            13799 non-null  object \n",
            " 18  PERSONAL_INCOME          13799 non-null  float64\n",
            " 19  LOAN_AMOUNT              13799 non-null  int64  \n",
            " 20  CLOSED_LOANS             13799 non-null  int64  \n",
            " 21  CREDIT                   13799 non-null  float64\n",
            " 22  TERM                     13799 non-null  int64  \n",
            " 23  FST_PAYMENT              13799 non-null  float64\n",
            " 24  TARGET                   13799 non-null  int64  \n",
            " 25  WORK_TIME_IN_YEARS       13799 non-null  float64\n",
            " 26  LOAN_NOW                 13799 non-null  int64  \n",
            "dtypes: float64(5), int64(13), object(9)\n",
            "memory usage: 2.8+ MB\n"
          ]
        }
      ]
    },
    {
      "cell_type": "markdown",
      "source": [
        "Это нужно было сделать в EDA ноутбуке, но в тот момент не реализовал это. Рассмотрим связь между категориальными признаками."
      ],
      "metadata": {
        "id": "tE7u6F0OWhss"
      }
    },
    {
      "cell_type": "code",
      "source": [
        "df_cat = all_data.apply(lambda x: x.astype(\"category\") if x.dtype == \"object\" else x)\n",
        "cramersv = am.CramersV(df_cat)\n",
        "\n",
        "cramersv.fit()"
      ],
      "metadata": {
        "colab": {
          "base_uri": "https://localhost:8080/",
          "height": 332
        },
        "id": "pIecN5ZkV3mH",
        "outputId": "38be41e2-e24d-45d1-a557-7de65b488a83"
      },
      "execution_count": 42,
      "outputs": [
        {
          "output_type": "execute_result",
          "data": {
            "text/plain": [
              "                         EDUCATION  MARITAL_STATUS  REG_ADDRESS_PROVINCE  \\\n",
              "EDUCATION                 1.000000        0.063281              0.101592   \n",
              "MARITAL_STATUS            0.063281        1.000000              0.102748   \n",
              "REG_ADDRESS_PROVINCE      0.101592        0.102748              1.000000   \n",
              "FACT_ADDRESS_PROVINCE     0.101397        0.103022              0.975258   \n",
              "POSTAL_ADDRESS_PROVINCE   0.102299        0.102945              0.988182   \n",
              "GEN_INDUSTRY              0.126464        0.074834              0.101547   \n",
              "GEN_TITLE                 0.146185        0.048871              0.107984   \n",
              "JOB_DIR                   0.091051        0.032852              0.089879   \n",
              "FAMILY_INCOME             0.109665        0.131644              0.255011   \n",
              "\n",
              "                         FACT_ADDRESS_PROVINCE  POSTAL_ADDRESS_PROVINCE  \\\n",
              "EDUCATION                             0.101397                 0.102299   \n",
              "MARITAL_STATUS                        0.103022                 0.102945   \n",
              "REG_ADDRESS_PROVINCE                  0.975258                 0.988182   \n",
              "FACT_ADDRESS_PROVINCE                 1.000000                 0.992647   \n",
              "POSTAL_ADDRESS_PROVINCE               0.992647                 1.000000   \n",
              "GEN_INDUSTRY                          0.101607                 0.101411   \n",
              "GEN_TITLE                             0.108238                 0.106976   \n",
              "JOB_DIR                               0.094521                 0.087068   \n",
              "FAMILY_INCOME                         0.264824                 0.262351   \n",
              "\n",
              "                         GEN_INDUSTRY  GEN_TITLE   JOB_DIR  FAMILY_INCOME  \n",
              "EDUCATION                    0.126464   0.146185  0.091051       0.109665  \n",
              "MARITAL_STATUS               0.074834   0.048871  0.032852       0.131644  \n",
              "REG_ADDRESS_PROVINCE         0.101547   0.107984  0.089879       0.255011  \n",
              "FACT_ADDRESS_PROVINCE        0.101607   0.108238  0.094521       0.264824  \n",
              "POSTAL_ADDRESS_PROVINCE      0.101411   0.106976  0.087068       0.262351  \n",
              "GEN_INDUSTRY                 1.000000   0.134249  0.131187       0.114742  \n",
              "GEN_TITLE                    0.134249   1.000000  0.097175       0.117245  \n",
              "JOB_DIR                      0.131187   0.097175  1.000000       0.068276  \n",
              "FAMILY_INCOME                0.114742   0.117245  0.068276       1.000000  "
            ],
            "text/html": [
              "\n",
              "  <div id=\"df-a10c39e4-37d8-4343-88a7-52768094545d\" class=\"colab-df-container\">\n",
              "    <div>\n",
              "<style scoped>\n",
              "    .dataframe tbody tr th:only-of-type {\n",
              "        vertical-align: middle;\n",
              "    }\n",
              "\n",
              "    .dataframe tbody tr th {\n",
              "        vertical-align: top;\n",
              "    }\n",
              "\n",
              "    .dataframe thead th {\n",
              "        text-align: right;\n",
              "    }\n",
              "</style>\n",
              "<table border=\"1\" class=\"dataframe\">\n",
              "  <thead>\n",
              "    <tr style=\"text-align: right;\">\n",
              "      <th></th>\n",
              "      <th>EDUCATION</th>\n",
              "      <th>MARITAL_STATUS</th>\n",
              "      <th>REG_ADDRESS_PROVINCE</th>\n",
              "      <th>FACT_ADDRESS_PROVINCE</th>\n",
              "      <th>POSTAL_ADDRESS_PROVINCE</th>\n",
              "      <th>GEN_INDUSTRY</th>\n",
              "      <th>GEN_TITLE</th>\n",
              "      <th>JOB_DIR</th>\n",
              "      <th>FAMILY_INCOME</th>\n",
              "    </tr>\n",
              "  </thead>\n",
              "  <tbody>\n",
              "    <tr>\n",
              "      <th>EDUCATION</th>\n",
              "      <td>1.000000</td>\n",
              "      <td>0.063281</td>\n",
              "      <td>0.101592</td>\n",
              "      <td>0.101397</td>\n",
              "      <td>0.102299</td>\n",
              "      <td>0.126464</td>\n",
              "      <td>0.146185</td>\n",
              "      <td>0.091051</td>\n",
              "      <td>0.109665</td>\n",
              "    </tr>\n",
              "    <tr>\n",
              "      <th>MARITAL_STATUS</th>\n",
              "      <td>0.063281</td>\n",
              "      <td>1.000000</td>\n",
              "      <td>0.102748</td>\n",
              "      <td>0.103022</td>\n",
              "      <td>0.102945</td>\n",
              "      <td>0.074834</td>\n",
              "      <td>0.048871</td>\n",
              "      <td>0.032852</td>\n",
              "      <td>0.131644</td>\n",
              "    </tr>\n",
              "    <tr>\n",
              "      <th>REG_ADDRESS_PROVINCE</th>\n",
              "      <td>0.101592</td>\n",
              "      <td>0.102748</td>\n",
              "      <td>1.000000</td>\n",
              "      <td>0.975258</td>\n",
              "      <td>0.988182</td>\n",
              "      <td>0.101547</td>\n",
              "      <td>0.107984</td>\n",
              "      <td>0.089879</td>\n",
              "      <td>0.255011</td>\n",
              "    </tr>\n",
              "    <tr>\n",
              "      <th>FACT_ADDRESS_PROVINCE</th>\n",
              "      <td>0.101397</td>\n",
              "      <td>0.103022</td>\n",
              "      <td>0.975258</td>\n",
              "      <td>1.000000</td>\n",
              "      <td>0.992647</td>\n",
              "      <td>0.101607</td>\n",
              "      <td>0.108238</td>\n",
              "      <td>0.094521</td>\n",
              "      <td>0.264824</td>\n",
              "    </tr>\n",
              "    <tr>\n",
              "      <th>POSTAL_ADDRESS_PROVINCE</th>\n",
              "      <td>0.102299</td>\n",
              "      <td>0.102945</td>\n",
              "      <td>0.988182</td>\n",
              "      <td>0.992647</td>\n",
              "      <td>1.000000</td>\n",
              "      <td>0.101411</td>\n",
              "      <td>0.106976</td>\n",
              "      <td>0.087068</td>\n",
              "      <td>0.262351</td>\n",
              "    </tr>\n",
              "    <tr>\n",
              "      <th>GEN_INDUSTRY</th>\n",
              "      <td>0.126464</td>\n",
              "      <td>0.074834</td>\n",
              "      <td>0.101547</td>\n",
              "      <td>0.101607</td>\n",
              "      <td>0.101411</td>\n",
              "      <td>1.000000</td>\n",
              "      <td>0.134249</td>\n",
              "      <td>0.131187</td>\n",
              "      <td>0.114742</td>\n",
              "    </tr>\n",
              "    <tr>\n",
              "      <th>GEN_TITLE</th>\n",
              "      <td>0.146185</td>\n",
              "      <td>0.048871</td>\n",
              "      <td>0.107984</td>\n",
              "      <td>0.108238</td>\n",
              "      <td>0.106976</td>\n",
              "      <td>0.134249</td>\n",
              "      <td>1.000000</td>\n",
              "      <td>0.097175</td>\n",
              "      <td>0.117245</td>\n",
              "    </tr>\n",
              "    <tr>\n",
              "      <th>JOB_DIR</th>\n",
              "      <td>0.091051</td>\n",
              "      <td>0.032852</td>\n",
              "      <td>0.089879</td>\n",
              "      <td>0.094521</td>\n",
              "      <td>0.087068</td>\n",
              "      <td>0.131187</td>\n",
              "      <td>0.097175</td>\n",
              "      <td>1.000000</td>\n",
              "      <td>0.068276</td>\n",
              "    </tr>\n",
              "    <tr>\n",
              "      <th>FAMILY_INCOME</th>\n",
              "      <td>0.109665</td>\n",
              "      <td>0.131644</td>\n",
              "      <td>0.255011</td>\n",
              "      <td>0.264824</td>\n",
              "      <td>0.262351</td>\n",
              "      <td>0.114742</td>\n",
              "      <td>0.117245</td>\n",
              "      <td>0.068276</td>\n",
              "      <td>1.000000</td>\n",
              "    </tr>\n",
              "  </tbody>\n",
              "</table>\n",
              "</div>\n",
              "    <div class=\"colab-df-buttons\">\n",
              "\n",
              "  <div class=\"colab-df-container\">\n",
              "    <button class=\"colab-df-convert\" onclick=\"convertToInteractive('df-a10c39e4-37d8-4343-88a7-52768094545d')\"\n",
              "            title=\"Convert this dataframe to an interactive table.\"\n",
              "            style=\"display:none;\">\n",
              "\n",
              "  <svg xmlns=\"http://www.w3.org/2000/svg\" height=\"24px\" viewBox=\"0 -960 960 960\">\n",
              "    <path d=\"M120-120v-720h720v720H120Zm60-500h600v-160H180v160Zm220 220h160v-160H400v160Zm0 220h160v-160H400v160ZM180-400h160v-160H180v160Zm440 0h160v-160H620v160ZM180-180h160v-160H180v160Zm440 0h160v-160H620v160Z\"/>\n",
              "  </svg>\n",
              "    </button>\n",
              "\n",
              "  <style>\n",
              "    .colab-df-container {\n",
              "      display:flex;\n",
              "      gap: 12px;\n",
              "    }\n",
              "\n",
              "    .colab-df-convert {\n",
              "      background-color: #E8F0FE;\n",
              "      border: none;\n",
              "      border-radius: 50%;\n",
              "      cursor: pointer;\n",
              "      display: none;\n",
              "      fill: #1967D2;\n",
              "      height: 32px;\n",
              "      padding: 0 0 0 0;\n",
              "      width: 32px;\n",
              "    }\n",
              "\n",
              "    .colab-df-convert:hover {\n",
              "      background-color: #E2EBFA;\n",
              "      box-shadow: 0px 1px 2px rgba(60, 64, 67, 0.3), 0px 1px 3px 1px rgba(60, 64, 67, 0.15);\n",
              "      fill: #174EA6;\n",
              "    }\n",
              "\n",
              "    .colab-df-buttons div {\n",
              "      margin-bottom: 4px;\n",
              "    }\n",
              "\n",
              "    [theme=dark] .colab-df-convert {\n",
              "      background-color: #3B4455;\n",
              "      fill: #D2E3FC;\n",
              "    }\n",
              "\n",
              "    [theme=dark] .colab-df-convert:hover {\n",
              "      background-color: #434B5C;\n",
              "      box-shadow: 0px 1px 3px 1px rgba(0, 0, 0, 0.15);\n",
              "      filter: drop-shadow(0px 1px 2px rgba(0, 0, 0, 0.3));\n",
              "      fill: #FFFFFF;\n",
              "    }\n",
              "  </style>\n",
              "\n",
              "    <script>\n",
              "      const buttonEl =\n",
              "        document.querySelector('#df-a10c39e4-37d8-4343-88a7-52768094545d button.colab-df-convert');\n",
              "      buttonEl.style.display =\n",
              "        google.colab.kernel.accessAllowed ? 'block' : 'none';\n",
              "\n",
              "      async function convertToInteractive(key) {\n",
              "        const element = document.querySelector('#df-a10c39e4-37d8-4343-88a7-52768094545d');\n",
              "        const dataTable =\n",
              "          await google.colab.kernel.invokeFunction('convertToInteractive',\n",
              "                                                    [key], {});\n",
              "        if (!dataTable) return;\n",
              "\n",
              "        const docLinkHtml = 'Like what you see? Visit the ' +\n",
              "          '<a target=\"_blank\" href=https://colab.research.google.com/notebooks/data_table.ipynb>data table notebook</a>'\n",
              "          + ' to learn more about interactive tables.';\n",
              "        element.innerHTML = '';\n",
              "        dataTable['output_type'] = 'display_data';\n",
              "        await google.colab.output.renderOutput(dataTable, element);\n",
              "        const docLink = document.createElement('div');\n",
              "        docLink.innerHTML = docLinkHtml;\n",
              "        element.appendChild(docLink);\n",
              "      }\n",
              "    </script>\n",
              "  </div>\n",
              "\n",
              "\n",
              "<div id=\"df-614be11e-8aed-4469-98b3-66e105e52309\">\n",
              "  <button class=\"colab-df-quickchart\" onclick=\"quickchart('df-614be11e-8aed-4469-98b3-66e105e52309')\"\n",
              "            title=\"Suggest charts.\"\n",
              "            style=\"display:none;\">\n",
              "\n",
              "<svg xmlns=\"http://www.w3.org/2000/svg\" height=\"24px\"viewBox=\"0 0 24 24\"\n",
              "     width=\"24px\">\n",
              "    <g>\n",
              "        <path d=\"M19 3H5c-1.1 0-2 .9-2 2v14c0 1.1.9 2 2 2h14c1.1 0 2-.9 2-2V5c0-1.1-.9-2-2-2zM9 17H7v-7h2v7zm4 0h-2V7h2v10zm4 0h-2v-4h2v4z\"/>\n",
              "    </g>\n",
              "</svg>\n",
              "  </button>\n",
              "\n",
              "<style>\n",
              "  .colab-df-quickchart {\n",
              "      --bg-color: #E8F0FE;\n",
              "      --fill-color: #1967D2;\n",
              "      --hover-bg-color: #E2EBFA;\n",
              "      --hover-fill-color: #174EA6;\n",
              "      --disabled-fill-color: #AAA;\n",
              "      --disabled-bg-color: #DDD;\n",
              "  }\n",
              "\n",
              "  [theme=dark] .colab-df-quickchart {\n",
              "      --bg-color: #3B4455;\n",
              "      --fill-color: #D2E3FC;\n",
              "      --hover-bg-color: #434B5C;\n",
              "      --hover-fill-color: #FFFFFF;\n",
              "      --disabled-bg-color: #3B4455;\n",
              "      --disabled-fill-color: #666;\n",
              "  }\n",
              "\n",
              "  .colab-df-quickchart {\n",
              "    background-color: var(--bg-color);\n",
              "    border: none;\n",
              "    border-radius: 50%;\n",
              "    cursor: pointer;\n",
              "    display: none;\n",
              "    fill: var(--fill-color);\n",
              "    height: 32px;\n",
              "    padding: 0;\n",
              "    width: 32px;\n",
              "  }\n",
              "\n",
              "  .colab-df-quickchart:hover {\n",
              "    background-color: var(--hover-bg-color);\n",
              "    box-shadow: 0 1px 2px rgba(60, 64, 67, 0.3), 0 1px 3px 1px rgba(60, 64, 67, 0.15);\n",
              "    fill: var(--button-hover-fill-color);\n",
              "  }\n",
              "\n",
              "  .colab-df-quickchart-complete:disabled,\n",
              "  .colab-df-quickchart-complete:disabled:hover {\n",
              "    background-color: var(--disabled-bg-color);\n",
              "    fill: var(--disabled-fill-color);\n",
              "    box-shadow: none;\n",
              "  }\n",
              "\n",
              "  .colab-df-spinner {\n",
              "    border: 2px solid var(--fill-color);\n",
              "    border-color: transparent;\n",
              "    border-bottom-color: var(--fill-color);\n",
              "    animation:\n",
              "      spin 1s steps(1) infinite;\n",
              "  }\n",
              "\n",
              "  @keyframes spin {\n",
              "    0% {\n",
              "      border-color: transparent;\n",
              "      border-bottom-color: var(--fill-color);\n",
              "      border-left-color: var(--fill-color);\n",
              "    }\n",
              "    20% {\n",
              "      border-color: transparent;\n",
              "      border-left-color: var(--fill-color);\n",
              "      border-top-color: var(--fill-color);\n",
              "    }\n",
              "    30% {\n",
              "      border-color: transparent;\n",
              "      border-left-color: var(--fill-color);\n",
              "      border-top-color: var(--fill-color);\n",
              "      border-right-color: var(--fill-color);\n",
              "    }\n",
              "    40% {\n",
              "      border-color: transparent;\n",
              "      border-right-color: var(--fill-color);\n",
              "      border-top-color: var(--fill-color);\n",
              "    }\n",
              "    60% {\n",
              "      border-color: transparent;\n",
              "      border-right-color: var(--fill-color);\n",
              "    }\n",
              "    80% {\n",
              "      border-color: transparent;\n",
              "      border-right-color: var(--fill-color);\n",
              "      border-bottom-color: var(--fill-color);\n",
              "    }\n",
              "    90% {\n",
              "      border-color: transparent;\n",
              "      border-bottom-color: var(--fill-color);\n",
              "    }\n",
              "  }\n",
              "</style>\n",
              "\n",
              "  <script>\n",
              "    async function quickchart(key) {\n",
              "      const quickchartButtonEl =\n",
              "        document.querySelector('#' + key + ' button');\n",
              "      quickchartButtonEl.disabled = true;  // To prevent multiple clicks.\n",
              "      quickchartButtonEl.classList.add('colab-df-spinner');\n",
              "      try {\n",
              "        const charts = await google.colab.kernel.invokeFunction(\n",
              "            'suggestCharts', [key], {});\n",
              "      } catch (error) {\n",
              "        console.error('Error during call to suggestCharts:', error);\n",
              "      }\n",
              "      quickchartButtonEl.classList.remove('colab-df-spinner');\n",
              "      quickchartButtonEl.classList.add('colab-df-quickchart-complete');\n",
              "    }\n",
              "    (() => {\n",
              "      let quickchartButtonEl =\n",
              "        document.querySelector('#df-614be11e-8aed-4469-98b3-66e105e52309 button');\n",
              "      quickchartButtonEl.style.display =\n",
              "        google.colab.kernel.accessAllowed ? 'block' : 'none';\n",
              "    })();\n",
              "  </script>\n",
              "</div>\n",
              "    </div>\n",
              "  </div>\n"
            ]
          },
          "metadata": {},
          "execution_count": 42
        }
      ]
    },
    {
      "cell_type": "markdown",
      "source": [
        "Видно, что адреса сильно коррелируют друг с другом. Поэтому будем использовать только почтовый адрес области."
      ],
      "metadata": {
        "id": "z3eMm7o0W5Mm"
      }
    },
    {
      "cell_type": "code",
      "source": [
        "# инициализируем листы числовых, категориальных, целевых признаков и признаки, которые не потребуются для анализа.\n",
        "# cat_features_indxs = [0, 1, 2]\n",
        "\n",
        "targets = ['TARGET']\n",
        "features2drop = ['WORK_TIME', 'FACT_ADDRESS_PROVINCE', 'REG_ADDRESS_PROVINCE']\n",
        "filtered_features = [i for i in all_data.columns if (i not in targets and i not in features2drop)]\n",
        "\n",
        "continuous_features = ['CREDIT', 'FST_PAYMENT', 'AGE', 'CHILD_TOTAL', 'DEPENDANTS',\n",
        "                       'OWN_AUTO', 'PERSONAL_INCOME', 'WORK_TIME', 'CLOSED_LOANS', 'LOAN_AMOUNT', 'WORK_TIME_IN_YEARS']\n",
        "categorical_features = [i for i in all_data.columns if i not in continuous_features and (i not in targets and i not in features2drop)]\n",
        "\n",
        "num_features = [i for i in filtered_features if i not in categorical_features]"
      ],
      "metadata": {
        "id": "bjYa-nDpfj5w"
      },
      "execution_count": 43,
      "outputs": []
    },
    {
      "cell_type": "code",
      "source": [
        "for col in categorical_features:\n",
        "    all_data[col] = all_data[col].astype(\"category\")"
      ],
      "metadata": {
        "id": "FcuS7susfSm2"
      },
      "execution_count": 44,
      "outputs": []
    },
    {
      "cell_type": "markdown",
      "source": [
        "## Разбиение данных на тренировочную и тестовую часть."
      ],
      "metadata": {
        "id": "LrRxEp1tYGqf"
      }
    },
    {
      "cell_type": "markdown",
      "source": [
        "Разбейте данные на тренировочную и тестовую часть в пропорции 80% к 20%, зафиксируйте `random_state = 42`."
      ],
      "metadata": {
        "id": "qrbnMjIHu1hq"
      }
    },
    {
      "cell_type": "code",
      "source": [
        "X = all_data[filtered_features].drop(targets, axis=1, errors=\"ignore\")\n",
        "y = all_data['TARGET']"
      ],
      "metadata": {
        "id": "9GVeUXVKVgmA"
      },
      "execution_count": 45,
      "outputs": []
    },
    {
      "cell_type": "code",
      "source": [
        "X_train, X_test, y_train, y_test = train_test_split(X, y, test_size=0.2, random_state=42)"
      ],
      "metadata": {
        "id": "W__PbhFeu1qC"
      },
      "execution_count": 46,
      "outputs": []
    },
    {
      "cell_type": "markdown",
      "source": [
        "## Прогнозирование целевой переменной."
      ],
      "metadata": {
        "id": "x_7_nHXfYO8w"
      }
    },
    {
      "cell_type": "markdown",
      "source": [
        "На тренировочных данных обучите линейную модель классификации для предсказания целевой переменной (столбец `TARGET`).\n",
        "\n",
        "Сделайте прогноз вероятности отклика на рекламную кампанию для тестовых данных."
      ],
      "metadata": {
        "id": "KlT4qPSAu-iJ"
      }
    },
    {
      "cell_type": "code",
      "source": [
        "# your code here\n",
        "\n",
        "model = LogisticRegression(class_weight='balanced')\n",
        "\n",
        "numeric_transformer = Pipeline(\n",
        "                steps=[(\"imputer\", SimpleImputer(strategy=\"median\")),\n",
        "                      (\"scaler\", StandardScaler())])\n",
        "categorical_transformer = Pipeline(\n",
        "                steps=[(\"encoder\", OneHotEncoder(handle_unknown=\"ignore\")),\n",
        "                      #  (\"selector\", SelectPercentile(chi2, percentile=50)),\n",
        "                      ])\n",
        "preprocessor = ColumnTransformer(\n",
        "                transformers=[(\"num\", numeric_transformer, num_features),\n",
        "                              (\"cat\", categorical_transformer, categorical_features)])\n",
        "\n",
        "pipe = Pipeline([('feature_preprocessor', preprocessor),\n",
        "                            ('model', model)])"
      ],
      "metadata": {
        "id": "eblrenlau-qw"
      },
      "execution_count": 47,
      "outputs": []
    },
    {
      "cell_type": "markdown",
      "source": [
        "## Метрики при стандартном пороге."
      ],
      "metadata": {
        "id": "aCMiRrohYlJl"
      }
    },
    {
      "cell_type": "markdown",
      "source": [
        "Переведите вероятности в классы по стандартному порогу (0.5) и на тестовом наборе данных вычислите метрики:\n",
        "\n",
        "* accuracy\n",
        "* precision\n",
        "* recall\n",
        "* f1-score"
      ],
      "metadata": {
        "id": "DU2v7ELEvgGF"
      }
    },
    {
      "cell_type": "code",
      "source": [
        "# your code here\n",
        "\n",
        "pipe.fit(X_train, y_train)\n",
        "probs = pipe.predict_proba(X_test)\n",
        "\n",
        "probs_churn = probs[:,1]\n",
        "classes = probs_churn > 0.5"
      ],
      "metadata": {
        "id": "9Uc5AmYXvgOb"
      },
      "execution_count": 48,
      "outputs": []
    },
    {
      "cell_type": "code",
      "source": [
        "# probs[:10]"
      ],
      "metadata": {
        "id": "vo6o0b7qo12y"
      },
      "execution_count": 49,
      "outputs": []
    },
    {
      "cell_type": "code",
      "source": [
        "# probs_churn[:10]"
      ],
      "metadata": {
        "id": "xZDHEiFgpO81"
      },
      "execution_count": 50,
      "outputs": []
    },
    {
      "cell_type": "code",
      "source": [
        "# classes[:10]"
      ],
      "metadata": {
        "id": "PZCff3XTpHwk"
      },
      "execution_count": 51,
      "outputs": []
    },
    {
      "cell_type": "code",
      "source": [
        "print(classification_report(y_test, classes))"
      ],
      "metadata": {
        "colab": {
          "base_uri": "https://localhost:8080/"
        },
        "id": "hobCmQh_UROd",
        "outputId": "98a0760e-a866-47e1-db24-ae7129497daf"
      },
      "execution_count": 52,
      "outputs": [
        {
          "output_type": "stream",
          "name": "stdout",
          "text": [
            "              precision    recall  f1-score   support\n",
            "\n",
            "           0       0.91      0.63      0.74      2390\n",
            "           1       0.20      0.59      0.29       370\n",
            "\n",
            "    accuracy                           0.62      2760\n",
            "   macro avg       0.55      0.61      0.52      2760\n",
            "weighted avg       0.81      0.62      0.68      2760\n",
            "\n"
          ]
        }
      ]
    },
    {
      "cell_type": "markdown",
      "source": [
        "Целевая метрика для задачи - полнота, так как нам нужно найти максимум клиентов, кто может откликнуться на рекламу.\n",
        "\n",
        "Но при этом точность не должна просесть, поэтому за ней тоже следим."
      ],
      "metadata": {
        "id": "Ft9XQp4Dxs-Z"
      }
    },
    {
      "cell_type": "markdown",
      "source": [
        "## Поиск оптимального порога разбиения."
      ],
      "metadata": {
        "id": "HiD8EjzYbYFl"
      }
    },
    {
      "cell_type": "markdown",
      "source": [
        "Разбейте тренировочные данные на `train` и `val` части в пропорции 3 к 1.\n",
        "\n",
        "В цикле:\n",
        "\n",
        "* переберите пороги от 0 до 1 с шагом 0.01\n",
        "* вычислите для каждого порога значение метрик precision и recall\n",
        "* подберите такой порог, при котором recall не меньше 0.66, а точность максимальна."
      ],
      "metadata": {
        "id": "JFPAsh0-xWak"
      }
    },
    {
      "cell_type": "code",
      "source": [
        "X_train.shape"
      ],
      "metadata": {
        "colab": {
          "base_uri": "https://localhost:8080/"
        },
        "id": "FLLurvSoZ-cr",
        "outputId": "7ad8243b-c710-413a-e3b6-5196c0b79fe1"
      },
      "execution_count": 53,
      "outputs": [
        {
          "output_type": "execute_result",
          "data": {
            "text/plain": [
              "(11039, 23)"
            ]
          },
          "metadata": {},
          "execution_count": 53
        }
      ]
    },
    {
      "cell_type": "markdown",
      "source": [
        "Разбиваем тренировочные данные.\n",
        "\n",
        "Возможно в задании предполагалось, что мы ещё раз обучим модель, но уже на этом новом разбиении. Но вроде бы если строго следовать условию это не так. И мы просто получаем некую подвыборку y_val и смотрим результат в зависимости от порога."
      ],
      "metadata": {
        "id": "mnvPNJzhbn-e"
      }
    },
    {
      "cell_type": "code",
      "source": [
        "X_train_n, X_val, y_train_n, y_val = train_test_split(X_train, y_train, test_size=0.25, random_state=7575)"
      ],
      "metadata": {
        "id": "0FHBsmqeZnS7"
      },
      "execution_count": 54,
      "outputs": []
    },
    {
      "cell_type": "code",
      "source": [
        "round(X_train_n.shape[0] / X_val.shape[0])"
      ],
      "metadata": {
        "colab": {
          "base_uri": "https://localhost:8080/"
        },
        "id": "SfgpltOznfZO",
        "outputId": "d1e56431-4501-4af3-da25-029963a0e815"
      },
      "execution_count": 55,
      "outputs": [
        {
          "output_type": "execute_result",
          "data": {
            "text/plain": [
              "3"
            ]
          },
          "metadata": {},
          "execution_count": 55
        }
      ]
    },
    {
      "cell_type": "code",
      "source": [
        "# model_mini = LogisticRegression(class_weight='balanced')\n",
        "# pipe_mini = Pipeline([('feature_preprocessor', preprocessor),\n",
        "#                             ('model', model_mini)])\n",
        "# pipe_mini.fit(X_train_n, y_train_n)\n",
        "\n",
        "# probs_mini = pipe_mini.predict_proba(X_val)\n",
        "probs_mini = pipe.predict_proba(X_val)\n",
        "\n",
        "precision_max = 0\n",
        "best_res = {}\n",
        "# перебираем пороги от 0 до 1 с шагом 0.01\n",
        "for th in range(0, 101, 1):\n",
        "    th = th if th == 0 else th/100\n",
        "    probs_churn_mini = probs_mini[:,1]\n",
        "    classes_mini = probs_churn_mini > th\n",
        "    # вычисление метрик для каждого порога\n",
        "    recall = recall_score(y_val, classes_mini)\n",
        "    precision = precision_score(y_val, classes_mini)\n",
        "    # print(f'th: {th} recall = {round(recall, 5)} precision = {round(precision, 5)}')\n",
        "\n",
        "    # подбор порога при котором recall не меньше 0.66, а точность максимальна\n",
        "    if recall >= 0.66:\n",
        "        if precision > precision_max:\n",
        "            precision_max = precision\n",
        "            best_res['th'] = th\n",
        "            best_res['recall'] = recall\n",
        "            best_res['precision'] = precision_max\n",
        "            # print(f'recall = {recall}, precision = {precision_max}, theshold = {th}')\n",
        "print(f'Best result: th = {best_res[\"th\"]}, recall = {round(best_res[\"recall\"], 7)}, precision = {round(best_res[\"precision\"], 7)}')"
      ],
      "metadata": {
        "colab": {
          "base_uri": "https://localhost:8080/"
        },
        "id": "BjoektYSeSec",
        "outputId": "d45c77d2-5123-4efe-d3cb-958dc25a098a"
      },
      "execution_count": 56,
      "outputs": [
        {
          "output_type": "stream",
          "name": "stdout",
          "text": [
            "Best result: th = 0.5, recall = 0.6676829, precision = 0.1998175\n"
          ]
        }
      ]
    },
    {
      "cell_type": "markdown",
      "source": [
        "Для выбранного порога посчитайте все метрики на тестовых данных. Сильно ли они отличаются от метрик на валидации?"
      ],
      "metadata": {
        "id": "39s_laFMyQfN"
      }
    },
    {
      "cell_type": "code",
      "source": [
        "# your code here\n",
        "\n",
        "classes = probs_churn > best_res[\"th\"]\n",
        "print(classification_report(y_test, classes))"
      ],
      "metadata": {
        "id": "BxeBB8ruyks8",
        "colab": {
          "base_uri": "https://localhost:8080/"
        },
        "outputId": "ac34e02e-8ad6-4d37-f5e8-08c9f524eb23"
      },
      "execution_count": 57,
      "outputs": [
        {
          "output_type": "stream",
          "name": "stdout",
          "text": [
            "              precision    recall  f1-score   support\n",
            "\n",
            "           0       0.91      0.63      0.74      2390\n",
            "           1       0.20      0.59      0.29       370\n",
            "\n",
            "    accuracy                           0.62      2760\n",
            "   macro avg       0.55      0.61      0.52      2760\n",
            "weighted avg       0.81      0.62      0.68      2760\n",
            "\n"
          ]
        }
      ]
    },
    {
      "cell_type": "markdown",
      "source": [
        "К сожалению, в моих вычислениях, при том как я обработатал изначальные входные данные, порог 0.5 оказался оптимальным для данной задачи. Поэтому и результат не отличается от просто изначального результата."
      ],
      "metadata": {
        "id": "odK6oPhOsqRG"
      }
    },
    {
      "cell_type": "markdown",
      "source": [
        "## Выведем топ-6 признаков."
      ],
      "metadata": {
        "id": "M-M_fYjDtxHE"
      }
    },
    {
      "cell_type": "markdown",
      "source": [
        "Выведите на экран в виде таблицы топ-6 признаков с наибольшими по модулю весами модели."
      ],
      "metadata": {
        "id": "LH7vX8nqyj5r"
      }
    },
    {
      "cell_type": "code",
      "source": [
        "coef_table = pd.DataFrame({'features' : list(pipe[:-1].get_feature_names_out()), 'weights' : list(abs(model.coef_[0]))})\n",
        "\n",
        "coef_table.sort_values(by='weights', ascending=False).head(6)"
      ],
      "metadata": {
        "colab": {
          "base_uri": "https://localhost:8080/",
          "height": 238
        },
        "id": "ry1GpQrlwubR",
        "outputId": "02958e6f-9f94-48ff-c97c-5c2e1c146f7e"
      },
      "execution_count": 58,
      "outputs": [
        {
          "output_type": "execute_result",
          "data": {
            "text/plain": [
              "                                              features   weights\n",
              "121                     cat__GEN_INDUSTRY_Недвижимость  1.573913\n",
              "131                      cat__GEN_INDUSTRY_Страхование  1.518229\n",
              "140  cat__GEN_INDUSTRY_Юридические услуги/нотариаль...  1.368344\n",
              "65   cat__POSTAL_ADDRESS_PROVINCE_Мордовская респуб...  1.338297\n",
              "181                                       cat__TERM_16  1.241759\n",
              "24                            cat__SOCSTATUS_WORK_FL_0  0.973183"
            ],
            "text/html": [
              "\n",
              "  <div id=\"df-5c624a96-f953-413f-a660-7386a840955d\" class=\"colab-df-container\">\n",
              "    <div>\n",
              "<style scoped>\n",
              "    .dataframe tbody tr th:only-of-type {\n",
              "        vertical-align: middle;\n",
              "    }\n",
              "\n",
              "    .dataframe tbody tr th {\n",
              "        vertical-align: top;\n",
              "    }\n",
              "\n",
              "    .dataframe thead th {\n",
              "        text-align: right;\n",
              "    }\n",
              "</style>\n",
              "<table border=\"1\" class=\"dataframe\">\n",
              "  <thead>\n",
              "    <tr style=\"text-align: right;\">\n",
              "      <th></th>\n",
              "      <th>features</th>\n",
              "      <th>weights</th>\n",
              "    </tr>\n",
              "  </thead>\n",
              "  <tbody>\n",
              "    <tr>\n",
              "      <th>121</th>\n",
              "      <td>cat__GEN_INDUSTRY_Недвижимость</td>\n",
              "      <td>1.573913</td>\n",
              "    </tr>\n",
              "    <tr>\n",
              "      <th>131</th>\n",
              "      <td>cat__GEN_INDUSTRY_Страхование</td>\n",
              "      <td>1.518229</td>\n",
              "    </tr>\n",
              "    <tr>\n",
              "      <th>140</th>\n",
              "      <td>cat__GEN_INDUSTRY_Юридические услуги/нотариаль...</td>\n",
              "      <td>1.368344</td>\n",
              "    </tr>\n",
              "    <tr>\n",
              "      <th>65</th>\n",
              "      <td>cat__POSTAL_ADDRESS_PROVINCE_Мордовская респуб...</td>\n",
              "      <td>1.338297</td>\n",
              "    </tr>\n",
              "    <tr>\n",
              "      <th>181</th>\n",
              "      <td>cat__TERM_16</td>\n",
              "      <td>1.241759</td>\n",
              "    </tr>\n",
              "    <tr>\n",
              "      <th>24</th>\n",
              "      <td>cat__SOCSTATUS_WORK_FL_0</td>\n",
              "      <td>0.973183</td>\n",
              "    </tr>\n",
              "  </tbody>\n",
              "</table>\n",
              "</div>\n",
              "    <div class=\"colab-df-buttons\">\n",
              "\n",
              "  <div class=\"colab-df-container\">\n",
              "    <button class=\"colab-df-convert\" onclick=\"convertToInteractive('df-5c624a96-f953-413f-a660-7386a840955d')\"\n",
              "            title=\"Convert this dataframe to an interactive table.\"\n",
              "            style=\"display:none;\">\n",
              "\n",
              "  <svg xmlns=\"http://www.w3.org/2000/svg\" height=\"24px\" viewBox=\"0 -960 960 960\">\n",
              "    <path d=\"M120-120v-720h720v720H120Zm60-500h600v-160H180v160Zm220 220h160v-160H400v160Zm0 220h160v-160H400v160ZM180-400h160v-160H180v160Zm440 0h160v-160H620v160ZM180-180h160v-160H180v160Zm440 0h160v-160H620v160Z\"/>\n",
              "  </svg>\n",
              "    </button>\n",
              "\n",
              "  <style>\n",
              "    .colab-df-container {\n",
              "      display:flex;\n",
              "      gap: 12px;\n",
              "    }\n",
              "\n",
              "    .colab-df-convert {\n",
              "      background-color: #E8F0FE;\n",
              "      border: none;\n",
              "      border-radius: 50%;\n",
              "      cursor: pointer;\n",
              "      display: none;\n",
              "      fill: #1967D2;\n",
              "      height: 32px;\n",
              "      padding: 0 0 0 0;\n",
              "      width: 32px;\n",
              "    }\n",
              "\n",
              "    .colab-df-convert:hover {\n",
              "      background-color: #E2EBFA;\n",
              "      box-shadow: 0px 1px 2px rgba(60, 64, 67, 0.3), 0px 1px 3px 1px rgba(60, 64, 67, 0.15);\n",
              "      fill: #174EA6;\n",
              "    }\n",
              "\n",
              "    .colab-df-buttons div {\n",
              "      margin-bottom: 4px;\n",
              "    }\n",
              "\n",
              "    [theme=dark] .colab-df-convert {\n",
              "      background-color: #3B4455;\n",
              "      fill: #D2E3FC;\n",
              "    }\n",
              "\n",
              "    [theme=dark] .colab-df-convert:hover {\n",
              "      background-color: #434B5C;\n",
              "      box-shadow: 0px 1px 3px 1px rgba(0, 0, 0, 0.15);\n",
              "      filter: drop-shadow(0px 1px 2px rgba(0, 0, 0, 0.3));\n",
              "      fill: #FFFFFF;\n",
              "    }\n",
              "  </style>\n",
              "\n",
              "    <script>\n",
              "      const buttonEl =\n",
              "        document.querySelector('#df-5c624a96-f953-413f-a660-7386a840955d button.colab-df-convert');\n",
              "      buttonEl.style.display =\n",
              "        google.colab.kernel.accessAllowed ? 'block' : 'none';\n",
              "\n",
              "      async function convertToInteractive(key) {\n",
              "        const element = document.querySelector('#df-5c624a96-f953-413f-a660-7386a840955d');\n",
              "        const dataTable =\n",
              "          await google.colab.kernel.invokeFunction('convertToInteractive',\n",
              "                                                    [key], {});\n",
              "        if (!dataTable) return;\n",
              "\n",
              "        const docLinkHtml = 'Like what you see? Visit the ' +\n",
              "          '<a target=\"_blank\" href=https://colab.research.google.com/notebooks/data_table.ipynb>data table notebook</a>'\n",
              "          + ' to learn more about interactive tables.';\n",
              "        element.innerHTML = '';\n",
              "        dataTable['output_type'] = 'display_data';\n",
              "        await google.colab.output.renderOutput(dataTable, element);\n",
              "        const docLink = document.createElement('div');\n",
              "        docLink.innerHTML = docLinkHtml;\n",
              "        element.appendChild(docLink);\n",
              "      }\n",
              "    </script>\n",
              "  </div>\n",
              "\n",
              "\n",
              "<div id=\"df-523c7f0b-f29b-4f1a-bc87-f2f55b48964f\">\n",
              "  <button class=\"colab-df-quickchart\" onclick=\"quickchart('df-523c7f0b-f29b-4f1a-bc87-f2f55b48964f')\"\n",
              "            title=\"Suggest charts.\"\n",
              "            style=\"display:none;\">\n",
              "\n",
              "<svg xmlns=\"http://www.w3.org/2000/svg\" height=\"24px\"viewBox=\"0 0 24 24\"\n",
              "     width=\"24px\">\n",
              "    <g>\n",
              "        <path d=\"M19 3H5c-1.1 0-2 .9-2 2v14c0 1.1.9 2 2 2h14c1.1 0 2-.9 2-2V5c0-1.1-.9-2-2-2zM9 17H7v-7h2v7zm4 0h-2V7h2v10zm4 0h-2v-4h2v4z\"/>\n",
              "    </g>\n",
              "</svg>\n",
              "  </button>\n",
              "\n",
              "<style>\n",
              "  .colab-df-quickchart {\n",
              "      --bg-color: #E8F0FE;\n",
              "      --fill-color: #1967D2;\n",
              "      --hover-bg-color: #E2EBFA;\n",
              "      --hover-fill-color: #174EA6;\n",
              "      --disabled-fill-color: #AAA;\n",
              "      --disabled-bg-color: #DDD;\n",
              "  }\n",
              "\n",
              "  [theme=dark] .colab-df-quickchart {\n",
              "      --bg-color: #3B4455;\n",
              "      --fill-color: #D2E3FC;\n",
              "      --hover-bg-color: #434B5C;\n",
              "      --hover-fill-color: #FFFFFF;\n",
              "      --disabled-bg-color: #3B4455;\n",
              "      --disabled-fill-color: #666;\n",
              "  }\n",
              "\n",
              "  .colab-df-quickchart {\n",
              "    background-color: var(--bg-color);\n",
              "    border: none;\n",
              "    border-radius: 50%;\n",
              "    cursor: pointer;\n",
              "    display: none;\n",
              "    fill: var(--fill-color);\n",
              "    height: 32px;\n",
              "    padding: 0;\n",
              "    width: 32px;\n",
              "  }\n",
              "\n",
              "  .colab-df-quickchart:hover {\n",
              "    background-color: var(--hover-bg-color);\n",
              "    box-shadow: 0 1px 2px rgba(60, 64, 67, 0.3), 0 1px 3px 1px rgba(60, 64, 67, 0.15);\n",
              "    fill: var(--button-hover-fill-color);\n",
              "  }\n",
              "\n",
              "  .colab-df-quickchart-complete:disabled,\n",
              "  .colab-df-quickchart-complete:disabled:hover {\n",
              "    background-color: var(--disabled-bg-color);\n",
              "    fill: var(--disabled-fill-color);\n",
              "    box-shadow: none;\n",
              "  }\n",
              "\n",
              "  .colab-df-spinner {\n",
              "    border: 2px solid var(--fill-color);\n",
              "    border-color: transparent;\n",
              "    border-bottom-color: var(--fill-color);\n",
              "    animation:\n",
              "      spin 1s steps(1) infinite;\n",
              "  }\n",
              "\n",
              "  @keyframes spin {\n",
              "    0% {\n",
              "      border-color: transparent;\n",
              "      border-bottom-color: var(--fill-color);\n",
              "      border-left-color: var(--fill-color);\n",
              "    }\n",
              "    20% {\n",
              "      border-color: transparent;\n",
              "      border-left-color: var(--fill-color);\n",
              "      border-top-color: var(--fill-color);\n",
              "    }\n",
              "    30% {\n",
              "      border-color: transparent;\n",
              "      border-left-color: var(--fill-color);\n",
              "      border-top-color: var(--fill-color);\n",
              "      border-right-color: var(--fill-color);\n",
              "    }\n",
              "    40% {\n",
              "      border-color: transparent;\n",
              "      border-right-color: var(--fill-color);\n",
              "      border-top-color: var(--fill-color);\n",
              "    }\n",
              "    60% {\n",
              "      border-color: transparent;\n",
              "      border-right-color: var(--fill-color);\n",
              "    }\n",
              "    80% {\n",
              "      border-color: transparent;\n",
              "      border-right-color: var(--fill-color);\n",
              "      border-bottom-color: var(--fill-color);\n",
              "    }\n",
              "    90% {\n",
              "      border-color: transparent;\n",
              "      border-bottom-color: var(--fill-color);\n",
              "    }\n",
              "  }\n",
              "</style>\n",
              "\n",
              "  <script>\n",
              "    async function quickchart(key) {\n",
              "      const quickchartButtonEl =\n",
              "        document.querySelector('#' + key + ' button');\n",
              "      quickchartButtonEl.disabled = true;  // To prevent multiple clicks.\n",
              "      quickchartButtonEl.classList.add('colab-df-spinner');\n",
              "      try {\n",
              "        const charts = await google.colab.kernel.invokeFunction(\n",
              "            'suggestCharts', [key], {});\n",
              "      } catch (error) {\n",
              "        console.error('Error during call to suggestCharts:', error);\n",
              "      }\n",
              "      quickchartButtonEl.classList.remove('colab-df-spinner');\n",
              "      quickchartButtonEl.classList.add('colab-df-quickchart-complete');\n",
              "    }\n",
              "    (() => {\n",
              "      let quickchartButtonEl =\n",
              "        document.querySelector('#df-523c7f0b-f29b-4f1a-bc87-f2f55b48964f button');\n",
              "      quickchartButtonEl.style.display =\n",
              "        google.colab.kernel.accessAllowed ? 'block' : 'none';\n",
              "    })();\n",
              "  </script>\n",
              "</div>\n",
              "    </div>\n",
              "  </div>\n"
            ]
          },
          "metadata": {},
          "execution_count": 58
        }
      ]
    },
    {
      "cell_type": "markdown",
      "source": [
        "Несколько неожиданно, но по моим результатам большие веса набрали категориальные признаки. Особенно связанные с работой."
      ],
      "metadata": {
        "id": "0lyMDXX5a8H9"
      }
    },
    {
      "cell_type": "markdown",
      "source": [
        "Сохраним результаты."
      ],
      "metadata": {
        "id": "C8uaOIjSsPik"
      }
    },
    {
      "cell_type": "code",
      "source": [
        "with open('model.pickle', 'wb') as f:\n",
        "    pickle.dump(pipe, f)"
      ],
      "metadata": {
        "id": "tB6fY_y4sVEW"
      },
      "execution_count": 59,
      "outputs": []
    },
    {
      "cell_type": "markdown",
      "source": [
        "## Задание 2\n",
        "\n",
        "Добавьте в Streamlit-приложение визуализацию результатов модели:\n",
        "\n",
        "* опцию выбора порога и вывод метрик качества в зависимости от выбранного порога\n",
        "\n",
        "* вывод прогноза модели на выбранном объекте (клиенте) - вероятность отклика на рекламу."
      ],
      "metadata": {
        "id": "E6zYvAVE1Qfd"
      }
    },
    {
      "cell_type": "markdown",
      "source": [
        "## Бонус\n",
        "\n",
        "Попробуйте применить другие модели классификации для решения этой задачи (любые какие знаете).\n",
        "\n",
        "Удалось ли добиться улучшения качества модели?"
      ],
      "metadata": {
        "id": "XSXZmkTCy4IX"
      }
    },
    {
      "cell_type": "markdown",
      "source": [
        "### Catboost"
      ],
      "metadata": {
        "id": "Oko-Qigkd2Ua"
      }
    },
    {
      "cell_type": "code",
      "source": [
        "train_dataset = Pool(data=X_train, label=y_train,\n",
        "                                 cat_features=categorical_features)\n",
        "eval_dataset = Pool(data=X_test, label=y_test,\n",
        "                                cat_features=categorical_features)"
      ],
      "metadata": {
        "id": "fhYoe7iJcy4a"
      },
      "execution_count": 60,
      "outputs": []
    },
    {
      "cell_type": "code",
      "source": [
        "ctb_clf = CatBoostClassifier(eval_metric='Recall', auto_class_weights='Balanced')\n",
        "\n",
        "ctb_clf.fit(train_dataset,\n",
        "            eval_set=eval_dataset,\n",
        "            verbose=100,\n",
        "            early_stopping_rounds=400)"
      ],
      "metadata": {
        "colab": {
          "base_uri": "https://localhost:8080/"
        },
        "id": "jPQQUyWgbuIt",
        "outputId": "0df50ea4-4255-4919-c633-8428d70ed908"
      },
      "execution_count": 61,
      "outputs": [
        {
          "output_type": "stream",
          "name": "stdout",
          "text": [
            "Learning rate set to 0.057347\n",
            "0:\tlearn: 0.5411850\ttest: 0.5378378\tbest: 0.5378378 (0)\ttotal: 62.9ms\tremaining: 1m 2s\n",
            "100:\tlearn: 0.7037572\ttest: 0.5864865\tbest: 0.6189189 (1)\ttotal: 3.79s\tremaining: 33.7s\n",
            "200:\tlearn: 0.7557803\ttest: 0.5324324\tbest: 0.6189189 (1)\ttotal: 11.2s\tremaining: 44.5s\n",
            "300:\tlearn: 0.8200867\ttest: 0.4594595\tbest: 0.6189189 (1)\ttotal: 18.5s\tremaining: 43s\n",
            "400:\tlearn: 0.8605491\ttest: 0.4351351\tbest: 0.6189189 (1)\ttotal: 26.8s\tremaining: 40.1s\n",
            "Stopped by overfitting detector  (400 iterations wait)\n",
            "\n",
            "bestTest = 0.6189189189\n",
            "bestIteration = 1\n",
            "\n",
            "Shrink model to first 2 iterations.\n"
          ]
        },
        {
          "output_type": "execute_result",
          "data": {
            "text/plain": [
              "<catboost.core.CatBoostClassifier at 0x7aa4c9d97dc0>"
            ]
          },
          "metadata": {},
          "execution_count": 61
        }
      ]
    },
    {
      "cell_type": "code",
      "source": [
        "y_pred = ctb_clf.predict(X_test)\n",
        "print(classification_report(y_test, y_pred))"
      ],
      "metadata": {
        "colab": {
          "base_uri": "https://localhost:8080/"
        },
        "id": "j5Ycwpt3dgG7",
        "outputId": "d68d832d-bb93-41c2-fa14-209bf5a04966"
      },
      "execution_count": 62,
      "outputs": [
        {
          "output_type": "stream",
          "name": "stdout",
          "text": [
            "              precision    recall  f1-score   support\n",
            "\n",
            "           0       0.90      0.53      0.67      2390\n",
            "           1       0.17      0.62      0.27       370\n",
            "\n",
            "    accuracy                           0.54      2760\n",
            "   macro avg       0.53      0.57      0.47      2760\n",
            "weighted avg       0.80      0.54      0.61      2760\n",
            "\n"
          ]
        }
      ]
    },
    {
      "cell_type": "code",
      "source": [
        "confusion_matrix(y_test, y_pred)"
      ],
      "metadata": {
        "colab": {
          "base_uri": "https://localhost:8080/"
        },
        "id": "5XIik05jequK",
        "outputId": "b434cb6d-50b6-4f95-8df7-dd4bb6253cc3"
      },
      "execution_count": 63,
      "outputs": [
        {
          "output_type": "execute_result",
          "data": {
            "text/plain": [
              "array([[1266, 1124],\n",
              "       [ 141,  229]])"
            ]
          },
          "metadata": {},
          "execution_count": 63
        }
      ]
    },
    {
      "cell_type": "markdown",
      "source": [
        "Если не редактировать параметр auto_class_weights, то catboost почему-то у меня скатывался к предсказаниям из нулей.\n",
        "Здесь я не использовал predict_proba, а оставил стандартный порог. И по recall метрике катбуст показал результаты лучше, чем стандартная логистическая регрессия. Параметры катбуста тоже не настраивал."
      ],
      "metadata": {
        "id": "tBK54FS7kZsF"
      }
    },
    {
      "cell_type": "markdown",
      "source": [
        "### LightGBM"
      ],
      "metadata": {
        "id": "zyHgYxnaeBIt"
      }
    },
    {
      "cell_type": "code",
      "source": [
        "X_le = X.copy()\n",
        "\n",
        "le = LabelEncoder()\n",
        "for col in categorical_features:\n",
        "    X_le[col] = le.fit_transform(X_le[col])"
      ],
      "metadata": {
        "id": "qswYYsovh8cX"
      },
      "execution_count": 98,
      "outputs": []
    },
    {
      "cell_type": "code",
      "source": [
        "X_le_train, X_le_test, y_le_train, y_le_test = train_test_split(X_le, y, test_size=0.2, random_state=42)"
      ],
      "metadata": {
        "id": "I2bp8iXEiFz2"
      },
      "execution_count": 99,
      "outputs": []
    },
    {
      "cell_type": "code",
      "source": [
        "w = y_train.value_counts(normalize=False)[0] / y_train.value_counts(normalize=False)[1]"
      ],
      "metadata": {
        "id": "njwO02kUoqQS"
      },
      "execution_count": 100,
      "outputs": []
    },
    {
      "cell_type": "code",
      "source": [
        "train_dataset = Dataset(X_le_train, y_le_train,\n",
        "                        categorical_feature=categorical_features,\n",
        "                        free_raw_data=False)\n",
        "\n",
        "eval_dataset = Dataset(X_le_test, y_le_test,\n",
        "                       categorical_feature=categorical_features,\n",
        "                       free_raw_data=False,\n",
        "                      #  weight=w\n",
        "                       )"
      ],
      "metadata": {
        "id": "9sMurnWeeUbr"
      },
      "execution_count": 101,
      "outputs": []
    },
    {
      "cell_type": "code",
      "source": [
        "params = {'boosting_type': 'gbdt',\n",
        "          'random_state': 42,\n",
        "          'force_col_wise': True,\n",
        "          'objective': 'binary',\n",
        "          'scale_pos_weight': w\n",
        "          }"
      ],
      "metadata": {
        "id": "8_PRoRY-g9or"
      },
      "execution_count": 102,
      "outputs": []
    },
    {
      "cell_type": "code",
      "source": [
        "lgbm_clf = lgb.train(params,\n",
        "                     train_set=train_dataset,\n",
        "                     valid_sets=(eval_dataset),\n",
        "                     categorical_feature=categorical_features,\n",
        "                     callbacks=[lgb.early_stopping(stopping_rounds=400)],\n",
        "                     num_boost_round=400)"
      ],
      "metadata": {
        "colab": {
          "base_uri": "https://localhost:8080/"
        },
        "id": "RdFGFCKbe5YS",
        "outputId": "6752fee3-ca73-4a23-c7a5-2e2c766ef957"
      },
      "execution_count": 103,
      "outputs": [
        {
          "output_type": "stream",
          "name": "stdout",
          "text": [
            "[LightGBM] [Info] Number of positive: 1384, number of negative: 9655\n",
            "[LightGBM] [Info] Total Bins 1095\n",
            "[LightGBM] [Info] Number of data points in the train set: 11039, number of used features: 22\n",
            "[LightGBM] [Info] [binary:BoostFromScore]: pavg=0.125374 -> initscore=-1.942498\n",
            "[LightGBM] [Info] Start training from score -1.942498\n",
            "Training until validation scores don't improve for 400 rounds\n",
            "Did not meet early stopping. Best iteration is:\n",
            "[1]\tvalid_0's binary_logloss: 0.394023\n"
          ]
        }
      ]
    },
    {
      "cell_type": "code",
      "source": [
        "probs_churn_lgbm = lgbm_clf.predict(X_le_test)\n",
        "classes = probs_churn_lgbm > 0.5\n",
        "print(classification_report(y_le_test, classes))"
      ],
      "metadata": {
        "colab": {
          "base_uri": "https://localhost:8080/"
        },
        "id": "aJdUpRTJhJ0Y",
        "outputId": "23fbdcca-b036-41a1-a982-45b153a05a46"
      },
      "execution_count": 104,
      "outputs": [
        {
          "output_type": "stream",
          "name": "stdout",
          "text": [
            "              precision    recall  f1-score   support\n",
            "\n",
            "           0       0.87      1.00      0.93      2390\n",
            "           1       0.00      0.00      0.00       370\n",
            "\n",
            "    accuracy                           0.87      2760\n",
            "   macro avg       0.43      0.50      0.46      2760\n",
            "weighted avg       0.75      0.87      0.80      2760\n",
            "\n"
          ]
        }
      ]
    },
    {
      "cell_type": "markdown",
      "source": [
        "Стандартный порог опять же отнёс всё к нулевому классу. Подберём порог исходя из логики, близкой к тому, что мы делали выше."
      ],
      "metadata": {
        "id": "a3RmjJV6m8bR"
      }
    },
    {
      "cell_type": "code",
      "source": [
        "precision_max = 0\n",
        "best_res = {}\n",
        "\n",
        "for th in range(0, 101, 1):\n",
        "    th = th if th == 0 else th/100\n",
        "    classes_lgbm = probs_churn_lgbm > th\n",
        "    # вычисление метрик для каждого порога\n",
        "    recall = recall_score(y_le_test, classes_lgbm)\n",
        "    precision = precision_score(y_le_test, classes_lgbm)\n",
        "    # print(f'th: {th} recall = {round(recall, 5)} precision = {round(precision, 5)}')\n",
        "\n",
        "    # подбор порога при котором recall не меньше 0.66, а точность максимальна\n",
        "    if recall >= 0.66:\n",
        "        if precision > precision_max:\n",
        "            precision_max = precision\n",
        "            best_res['th'] = th\n",
        "            best_res['recall'] = recall\n",
        "            best_res['precision'] = precision_max\n",
        "            # print(f'recall = {recall}, precision = {precision_max}, theshold = {th}')\n",
        "print(f'Best result: th = {best_res[\"th\"]}, recall = {round(best_res[\"recall\"], 7)}, precision = {round(best_res[\"precision\"], 7)}')"
      ],
      "metadata": {
        "colab": {
          "base_uri": "https://localhost:8080/"
        },
        "id": "PKzSPklVm4me",
        "outputId": "91985953-3276-4e0a-cb89-8c18b07bc077"
      },
      "execution_count": 105,
      "outputs": [
        {
          "output_type": "stream",
          "name": "stdout",
          "text": [
            "Best result: th = 0.16, recall = 0.7405405, precision = 0.1521377\n"
          ]
        }
      ]
    },
    {
      "cell_type": "code",
      "source": [
        "probs_churn_lgbm = lgbm_clf.predict(X_le_test)\n",
        "classes = probs_churn_lgbm > best_res[\"th\"]\n",
        "print(classification_report(y_le_test, classes))"
      ],
      "metadata": {
        "colab": {
          "base_uri": "https://localhost:8080/"
        },
        "id": "L9ko8Vuiroek",
        "outputId": "160aa98a-174a-46f8-e805-52767b641534"
      },
      "execution_count": 106,
      "outputs": [
        {
          "output_type": "stream",
          "name": "stdout",
          "text": [
            "              precision    recall  f1-score   support\n",
            "\n",
            "           0       0.90      0.36      0.52      2390\n",
            "           1       0.15      0.74      0.25       370\n",
            "\n",
            "    accuracy                           0.41      2760\n",
            "   macro avg       0.53      0.55      0.38      2760\n",
            "weighted avg       0.80      0.41      0.48      2760\n",
            "\n"
          ]
        }
      ]
    },
    {
      "cell_type": "code",
      "source": [
        "confusion_matrix(y_le_test, classes)"
      ],
      "metadata": {
        "colab": {
          "base_uri": "https://localhost:8080/"
        },
        "id": "ywCFtPSatA5V",
        "outputId": "042e3b88-ea2d-4884-bed1-0d59b14f1315"
      },
      "execution_count": 107,
      "outputs": [
        {
          "output_type": "execute_result",
          "data": {
            "text/plain": [
              "array([[ 863, 1527],\n",
              "       [  96,  274]])"
            ]
          },
          "metadata": {},
          "execution_count": 107
        }
      ]
    },
    {
      "cell_type": "markdown",
      "source": [
        "При помощи LightGBM удалось выжать recall на порядок лучше, чем в других моделях. (Вероятно, опять же, что в других моделях возможно были допущены ошибки.) Также ни в одних моделях не подбирались гиперпараметры, и не производились остальные манипуляции (возможно ансамблирование моделей) для улучшения метрики. Возможно ошибочно посчитал, что в рамках данного курса это не столь принципиально. Предполагал, что мы хотели больше сосредоточиться на демонстрации зависимости метрик от выбора порога."
      ],
      "metadata": {
        "id": "8MwHhje9rvKj"
      }
    }
  ]
}